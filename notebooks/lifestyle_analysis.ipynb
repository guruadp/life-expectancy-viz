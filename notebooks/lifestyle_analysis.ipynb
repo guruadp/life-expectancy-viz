{
 "cells": [
  {
   "cell_type": "markdown",
   "metadata": {},
   "source": [
    "# Lifestyle Choices and Life Expectancy Analysis\n",
    "\n",
    "This notebook provides an in-depth analysis of how lifestyle choices impact life expectancy.\n",
    "\n",
    "## Key Questions:\n",
    "- Which lifestyle factors have the greatest impact on life expectancy?\n",
    "- How do different combinations of lifestyle choices affect longevity?\n",
    "- What are the most effective strategies for extending life expectancy?\n",
    "- How does the impact of lifestyle choices vary by age group?"
   ]
  },
  {
   "cell_type": "code",
   "execution_count": null,
   "metadata": {},
   "outputs": [],
   "source": [
    "import pandas as pd\n",
    "import numpy as np\n",
    "import matplotlib.pyplot as plt\n",
    "import seaborn as sns\n",
    "import plotly.express as px\n",
    "import plotly.graph_objects as go\n",
    "from plotly.subplots import make_subplots\n",
    "\n",
    "# Set style\n",
    "plt.style.use('seaborn-v0_8')\n",
    "sns.set_palette('husl')"
   ]
  },
  {
   "cell_type": "code",
   "execution_count": null,
   "metadata": {},
   "outputs": [],
   "source": [
    "# Load data\n",
    "df = pd.read_csv('../data/lifestyle_data.csv')\n",
    "print(f'Dataset shape: {df.shape}')\n",
    "print(f'Columns: {list(df.columns)}')\n",
    "df.head()"
   ]
  },
  {
   "cell_type": "code",
   "execution_count": null,
   "metadata": {},
   "outputs": [],
   "source": [
    "# Basic statistics\n",
    "print('Lifestyle Impact Statistics:')\n",
    "print(df['lifestyle_impact'].describe())\n",
    "print('\nYears Lost Statistics:')\n",
    "print(df['years_lost'].describe())\n",
    "print('\nYears Gained Statistics:')\n",
    "print(df['years_gained'].describe())"
   ]
  },
  {
   "cell_type": "code",
   "execution_count": null,
   "metadata": {},
   "outputs": [],
   "source": [
    "# Factor impact analysis\n",
    "factors = ['smoking', 'exercise', 'diet', 'alcohol', 'sleep', 'stress', 'social_connections']\n",
    "\n",
    "fig, axes = plt.subplots(2, 4, figsize=(20, 10))\n",
    "axes = axes.ravel()\n",
    "\n",
    "for i, factor in enumerate(factors):\n",
    "    factor_impact = df.groupby(factor)['lifestyle_impact'].mean().sort_values()\n",
    "    bars = axes[i].bar(range(len(factor_impact)), factor_impact.values, \n",
    "                      color=plt.cm.RdYlGn_r(np.linspace(0, 1, len(factor_impact))))\n",
    "    axes[i].set_title(f'{factor.replace("_", " ").title()} Impact')\n",
    "    axes[i].set_xticks(range(len(factor_impact)))\n",
    "    axes[i].set_xticklabels(factor_impact.index, rotation=45)\n",
    "    axes[i].set_ylabel('Years Lost/Gained')\n",
    "    \n",
    "    # Add value labels\n",
    "    for bar, value in zip(bars, factor_impact.values):\n",
    "        axes[i].text(bar.get_x() + bar.get_width()/2, bar.get_height() + 0.1,\n",
    "                    f'{value:.1f}', ha='center', va='bottom')\n",
    "\n",
    "plt.tight_layout()\n",
    "plt.show()"
   ]
  },
  {
   "cell_type": "code",
   "execution_count": null,
   "metadata": {},
   "outputs": [],
   "source": [
    "# Interactive correlation heatmap\n",
    "correlation_data = df[['lifestyle_impact', 'years_lost', 'years_gained', 'risk_score']].corr()\n",
    "\n",
    "fig = px.imshow(correlation_data, \n",
    "                text_auto=True, \n",
    "                aspect='auto',\n",
    "                title='Correlation Matrix of Key Metrics')\n",
    "fig.show()"
   ]
  },
  {
   "cell_type": "code",
   "execution_count": null,
   "metadata": {},
   "source": [
    "# Age group analysis\n",
    "age_analysis = df.groupby('age_group').agg({\n",
    "    'adjusted_life_expectancy': ['mean', 'std'],\n",
    "    'lifestyle_impact': ['mean', 'std'],\n",
    "    'risk_score': ['mean', 'std']\n",
    "}).round(2)\n",
    "\n",
    "print('Age Group Analysis:')\n",
    "print(age_analysis)"
   ]
  },
  {
   "cell_type": "code",
   "execution_count": null,
   "metadata": {},
   "outputs": [],
   "source": [
    "# Best and worst lifestyle combinations\n",
    "print('Top 10 Best Lifestyle Combinations (Most Years Gained):')\n",
    "best_combinations = df.nlargest(10, 'years_gained')[\n",
    "    ['smoking', 'exercise', 'diet', 'alcohol', 'sleep', 'stress', 'social_connections', 'years_gained']\n",
    "]\n",
    "print(best_combinations)\n",
    "\n",
    "print('\nTop 10 Worst Lifestyle Combinations (Most Years Lost):')\n",
    "worst_combinations = df.nlargest(10, 'years_lost')[\n",
    "    ['smoking', 'exercise', 'diet', 'alcohol', 'sleep', 'stress', 'social_connections', 'years_lost']\n",
    "]\n",
    "print(worst_combinations)"
   ]
  },
  {
   "cell_type": "code",
   "execution_count": null,
   "metadata": {},
   "outputs": [],
   "source": [
    "# Interactive 3D scatter plot\n",
    "fig = px.scatter_3d(df.sample(1000), \n",
    "                    x='lifestyle_impact', \n",
    "                    y='adjusted_life_expectancy', \n",
    "                    z='risk_score',\n",
    "                    color='risk_score',\n",
    "                    hover_data=['smoking', 'exercise', 'diet'],\n",
    "                    title='3D View: Lifestyle Impact vs Life Expectancy vs Risk Score')\n",
    "fig.show()"
   ]
  }
 ],
 "metadata": {
  "kernelspec": {
   "display_name": "Python 3",
   "language": "python",
   "name": "python3"
  },
  "language_info": {
   "codemirror_mode": {
    "name": "ipython",
    "version": 3
   },
   "file_extension": ".py",
   "mimetype": "text/x-python",
   "name": "python",
   "nbconvert_exporter": "python",
   "pygments_lexer": "ipython3",
   "version": "3.8.5"
  }
 },
 "nbformat": 4,
 "nbformat_minor": 4
}